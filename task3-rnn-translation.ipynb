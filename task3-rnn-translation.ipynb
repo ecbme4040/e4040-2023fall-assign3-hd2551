{
 "cells": [
  {
   "cell_type": "markdown",
   "metadata": {},
   "source": [
    "## Columbia University\n",
    "### ECBM E4040 Neural Networks and Deep Learning. Fall 2023."
   ]
  },
  {
   "cell_type": "markdown",
   "metadata": {
    "id": "JJCMCx6ISZZw"
   },
   "source": [
    "## **Task 3: RNN Application -- Neural Machine Translation** (25%)"
   ]
  },
  {
   "cell_type": "markdown",
   "metadata": {
    "id": "u8wjQhNtSffW"
   },
   "source": [
    "In this task, you are going to perform neural machine translation (NMT). NMT involves using a neural network to translate from one language to another. This is a widely studied natural language processing (NLP) problem and has tremendous real-world applications.\n",
    "\n",
    "Machine Translation is a challenging task that involves both the usage of complex architectures and data processing tricks to obtain human-level performance. **In this notebook, you will implement a simple Seq2Seq architecture using RNN layers in keras.**\n",
    "\n",
    "**The goal is to train a model to translate from Dutch (input language) to English (target language)**. This notebook uses data from the [Tab Delimited Bilingual Sentence Pairs](https://www.manythings.org/anki/) repository. You can find many such language pairs here.\n",
    "\n",
    "## <span style=\"color:red\"><strong>NOTE: Training this model may take 10-15 minutes of time depending on the strength of the system, so please plan accordingly.</strong></span>"
   ]
  },
  {
   "cell_type": "code",
   "execution_count": null,
   "metadata": {
    "id": "UZ_G4XdfP7GK"
   },
   "outputs": [],
   "source": [
    "# Import modules\n",
    "import tensorflow as tf\n",
    "import numpy as np\n",
    "import json\n",
    "import matplotlib.pyplot as plt\n",
    "\n",
    "%matplotlib inline\n",
    "\n",
    "%load_ext autoreload\n",
    "%autoreload 2"
   ]
  },
  {
   "cell_type": "markdown",
   "metadata": {
    "id": "6MjTYqMoN8fh"
   },
   "source": [
    "### Broad Overview of Steps:\n",
    "1. Preprocess and encode data\n",
    "2. Create dataset/dataloaders\n",
    "3. Define Model Architecture\n",
    "4. Train Model\n",
    "5. Evaluate results\n",
    "\n",
    "Step 1. has already been completed for you. We provide two .npy files that contain the data: \n",
    "- `nmt_eng.npy` contains the encoded English sentences.\n",
    "- `nmt_nl.npy` contains the encoded Dutch sentences. \n",
    "The sentences already have been normalized, padded and appended with the \\<start\\> and \\<end\\> tokens.\n",
    "\n",
    "We also provide two vocabulary files `eng_vocab.txt` and `nl_vocab.txt` for the English and Dutch languages respectively. The vocabulary files will be used for decoding the input and output of our model.\n",
    "\n",
    "## Part 1. Load Encoded Data"
   ]
  },
  {
   "cell_type": "markdown",
   "metadata": {},
   "source": [
    "<font color=\"red\"><strong>TODO:</strong></font> Execute the following cells to load the text data."
   ]
  },
  {
   "cell_type": "code",
   "execution_count": null,
   "metadata": {
    "colab": {
     "base_uri": "https://localhost:8080/"
    },
    "id": "F55EwI6RQl1A",
    "outputId": "1e087591-3dad-4471-97df-d9af9214dddb"
   },
   "outputs": [],
   "source": [
    "# Load Vocabulary files (dictionaries of word:int pairs)\n",
    "with open(\"text_data/eng_vocab.txt\", 'r') as f:\n",
    "    eng_vocab = json.load(f)\n",
    "\n",
    "with open(\"text_data/nl_vocab.txt\", 'r') as f:\n",
    "    nl_vocab = json.load(f)\n",
    "    \n",
    "eng_vocab = {int(key): value for key, value in eng_vocab.items()}\n",
    "nl_vocab = {int(key): value for key, value in nl_vocab.items()}\n",
    "\n",
    "print(f'Size of english vocab: {len(eng_vocab)}')\n",
    "print(f'Size of dutch vocab: {len(nl_vocab)}')"
   ]
  },
  {
   "cell_type": "code",
   "execution_count": null,
   "metadata": {},
   "outputs": [],
   "source": [
    "# Load Encoded Sentence Data\n",
    "eng_text = np.load(\"text_data/nmt_eng.npy\")\n",
    "nl_text = np.load(\"text_data/nmt_nl.npy\")\n",
    "\n",
    "print(f'Shape of english text data: {eng_text.shape}')\n",
    "print(f'Shape of dutch text data: {nl_text.shape}')"
   ]
  },
  {
   "cell_type": "markdown",
   "metadata": {
    "id": "dmjy9sPDOCnY"
   },
   "source": [
    "## Part 2: Datasets and Dataloading (3%)\n",
    "\n",
    "<font color=\"red\"><strong>TODO:</strong></font> <b>Complete the functions in utils/translation/text_data.py</b>\n",
    "\n",
    "This will create the train, validation, and test datasets for our translation model."
   ]
  },
  {
   "cell_type": "code",
   "execution_count": null,
   "metadata": {
    "id": "-Mx6WgMBVI3T"
   },
   "outputs": [],
   "source": [
    "from utils.translation.text_data import get_dataset, get_dataset_partitions_tf, decode_text\n",
    "\n",
    "text_ds = get_dataset(nl_text, eng_text)\n",
    "train_ds, val_ds = get_dataset_partitions_tf(text_ds, len(text_ds))\n",
    "print(f\"Train size: {len(train_ds)}\")\n",
    "print(f\"Validation size: {len(val_ds)}\")"
   ]
  },
  {
   "cell_type": "code",
   "execution_count": null,
   "metadata": {},
   "outputs": [],
   "source": [
    "# Let's have a look at a sample from the dataset\n",
    "sample = next(iter(train_ds))\n",
    "sample[0], sample[1]"
   ]
  },
  {
   "cell_type": "code",
   "execution_count": null,
   "metadata": {},
   "outputs": [],
   "source": [
    "decoded_nl = decode_text(sample[0].numpy(), vocab=nl_vocab)\n",
    "decoded_eng = decode_text(sample[1].numpy(), vocab=eng_vocab)\n",
    "print('NL:', decoded_nl)\n",
    "print()\n",
    "print('EN:', decoded_eng)"
   ]
  },
  {
   "cell_type": "markdown",
   "metadata": {
    "id": "IBiLRGc7RL-g"
   },
   "source": [
    "## Part 3: Model Architecture (15%)\n",
    "\n",
    "### Seq2Seq Model\n",
    "\n",
    "In the general case, input sequences and output sequences have different lengths (e.g. machine translation) and the entire input sequence is required in order to start predicting the target. This requires a more advanced setup, which is what people commonly refer to when mentioning \"sequence-to-sequence models\" with no further context. Here's how it works (This example is English to French):\n",
    "\n",
    "- An RNN layer (or stack thereof) acts as \"encoder\": it processes the input sequence and returns its own internal state. Note that we discard the outputs of the encoder RNN, only recovering the state. This state will serve as the \"context\", or \"conditioning\", of the decoder in the next step.\n",
    "- Another RNN layer (or stack thereof) acts as \"decoder\": it is trained to predict the next characters of the target sequence, given previous characters of the target sequence. Specifically, it is trained to turn the target sequences into the same sequences but offset by one timestep in the future, a training process called \"teacher forcing\" in this context. Importantly, the encoder uses as initial state the state vectors from the encoder, which is how the decoder obtains information about what it is supposed to generate. Effectively, the decoder learns to generate targets[t+1...] given targets[...t], conditioned on the input sequence.\n",
    "\n",
    "![teacher_forcing](./img/seq2seq-teacher-forcing.png)"
   ]
  },
  {
   "cell_type": "markdown",
   "metadata": {},
   "source": [
    "In inference mode, i.e. when we want to decode unknown input sequences, we go through a slightly different process:\n",
    "\n",
    "1) Encode the input sequence into state vectors.\n",
    "2) Start with a target sequence of size 1 (just the start-of-sequence character).\n",
    "3) Feed the state vectors and 1-char target sequence to the decoder to produce predictions for the next character.\n",
    "4) Sample the next character using these predictions (we simply use argmax).\n",
    "5) Append the sampled character to the target sequence\n",
    "6) Repeat until we generate the end-of-sequence character or we hit the character limit.\n",
    "\n",
    "![seq2seq-inference](./img/seq2seq-inference.png)"
   ]
  },
  {
   "cell_type": "markdown",
   "metadata": {},
   "source": [
    "The seq2seq model implementation requires a more complex setup than what is provided by keras.Sequential().\n",
    "You will be exposed to writing modular code using custom `keras.layer` and `keras.Model` classes. **First, please read https://keras.io/guides/making_new_layers_and_models_via_subclassing/** to get an idea about writing custom modules in tensorflow/keras, which is what is done in practice to implement complex architectures.\n",
    "\n",
    "<font color=\"red\"><strong>TODO:</strong></font> <b>Based on the above, you need to complete the code in utils/translation/layers.py</b>"
   ]
  },
  {
   "cell_type": "code",
   "execution_count": null,
   "metadata": {},
   "outputs": [],
   "source": [
    "#BATCH, PREFETCH, CACHE the datasets\n",
    "#You can change the batch size based on memory requirements\n",
    "BATCH_SIZE = 64\n",
    "train_loader = train_ds.batch(BATCH_SIZE).prefetch(tf.data.AUTOTUNE).cache()\n",
    "val_loader = val_ds.batch(BATCH_SIZE).prefetch(tf.data.AUTOTUNE).cache()"
   ]
  },
  {
   "cell_type": "code",
   "execution_count": null,
   "metadata": {},
   "outputs": [],
   "source": [
    "from utils.translation.layers import TranslationModel\n",
    "\n",
    "eng_vocab_size = len(eng_vocab)\n",
    "nl_vocab_size = len(nl_vocab)\n",
    "hidden_size = 256\n",
    "\n",
    "#Initialize Model\n",
    "model = TranslationModel(nl_vocab_size, eng_vocab_size, hidden_size, eng_vocab)"
   ]
  },
  {
   "cell_type": "markdown",
   "metadata": {},
   "source": [
    "## Part 4: Training the Model (5%)\n",
    "\n",
    "The following cell(s) will train your Machine Translation model. The loss function used is Cross Entropy (since we are performing classification across the vocabulary at each time step). In practice, we usually implement a machine translation metric such as BLEU or ROUGE ([reference](https://medium.com/@sthanikamsanthosh1994/understanding-bleu-and-rouge-score-for-nlp-evaluation-1ab334ecadcb#:~:text=While%20BLEU%20score%20is%20primarily,the%20reference%20translations%20or%20summaries.)), and compute it for the validation set after each epoch. For this task, it is sufficient to just observe the train loss values.\n",
    "\n",
    "You are already provided the `train_seq2seq_model` function in `utils.translation.train_funcs.py`. You can refer to this file to see the loss function and how a custom training loop with modifications has been implemented. Execute the cell below to train your model.\n",
    "\n",
    "**Note that training will proceed as expected only if the implementation of your model is correct.** You can monitor the training loss to make sure that the model training is proceeding as expected. **Training may take 10-15 minutes depending on the strength of the system.**\n",
    "\n",
    "If you have spare time, feel free to increase the number of epoch gauge if the performance improves. "
   ]
  },
  {
   "cell_type": "code",
   "execution_count": null,
   "metadata": {},
   "outputs": [],
   "source": [
    "from utils.translation.train_funcs import train_seq2seq_model\n",
    "\n",
    "# Train the model. Use the Adam optimizer with 1e-3 learning rate.\n",
    "num_epochs = 5\n",
    "learning_rate = 0.001\n",
    "optimizer = tf.keras.optimizers.Adam(learning_rate = learning_rate)\n",
    "\n",
    "train_seq2seq_model(\n",
    "    model,\n",
    "    train_loader,\n",
    "    optimizer,\n",
    "    num_epochs\n",
    ")\n"
   ]
  },
  {
   "cell_type": "markdown",
   "metadata": {},
   "source": [
    "## Part 5: Evaluating Results (2%)\n",
    "\n",
    "Our training function only shows the training loss value. To assess the performance of the model, we can perform some predictions and decode the input/output sentences. \n",
    "\n",
    "<font color=\"red\"><strong>TODO:</strong></font> Run the following cells to qualitatively asses the quality of the generated sentences and the performance of the trained model.\n",
    "\n",
    "**NOTE**: As we are dealing with a generation task, the outputs will vary depending on the final trained model. Therefore, we have provided a set of example outputs with the translation quality you can expect from the trained model. You results may be different.\n",
    "\n"
   ]
  },
  {
   "cell_type": "code",
   "execution_count": null,
   "metadata": {},
   "outputs": [],
   "source": [
    "# Run these cells to evaluate your model on one batch of the validation set\n",
    "val_sample = val_loader.shuffle(10000).take(1)\n",
    "val_sample = next(iter(val_sample))"
   ]
  },
  {
   "cell_type": "code",
   "execution_count": null,
   "metadata": {},
   "outputs": [],
   "source": [
    "val_inp, val_target = val_sample\n",
    "decoded_inputs = []\n",
    "reserved_tokens = ['[PAD]', '[SOS]', '[EOS]']\n",
    "for inp in val_inp.numpy():\n",
    "    decoded_text = decode_text(inp, vocab=nl_vocab)\n",
    "    decoded_inputs.append([token for token in decoded_text if token not in reserved_tokens])\n",
    "\n",
    "val_pred = model(val_inp, training=False)\n",
    "decoded_outputs = model.decode_tokens(val_pred)\n",
    "decoded_ground_truth = model.decode_tokens(val_target[:, 1:])\n",
    "\n",
    "samples_to_show = 10 #Should be <= batch size\n",
    "\n",
    "for i, decoded_data in enumerate(zip(decoded_inputs, decoded_ground_truth, decoded_outputs)):\n",
    "    nl_sentence = ' '.join(decoded_data[0])\n",
    "    gt_en_sentence = ' '.join(decoded_data[1])\n",
    "    pred_en_sentence = ' '.join(decoded_data[2])\n",
    "    print('Sample:', i+1)\n",
    "    print('Dutch Sentence: ', nl_sentence)\n",
    "    print('English Sentence (Truth): ', gt_en_sentence)\n",
    "    print('English Sentence (Pred)', pred_en_sentence)\n",
    "    if i > samples_to_show - 1:\n",
    "        break"
   ]
  },
  {
   "cell_type": "markdown",
   "metadata": {},
   "source": [
    "### Example of Expected Outputs"
   ]
  },
  {
   "cell_type": "code",
   "execution_count": null,
   "metadata": {
    "vscode": {
     "languageId": "plaintext"
    }
   },
   "outputs": [],
   "source": [
    "\"\"\"\n",
    "Sample: 1\n",
    "Dutch Sentence:  waar hebben jullie het verstopt ?\n",
    "English Sentence (Truth):  where did you hide it ?\n",
    "English Sentence (Pred) where did you do it ?\n",
    "Sample: 2\n",
    "Dutch Sentence:  denk jij dit ?\n",
    "English Sentence (Truth):  is that what you think ?\n",
    "English Sentence (Pred) do you think this ?\n",
    "Sample: 3\n",
    "Dutch Sentence:  de treinen rijden s nachts minder vaak\n",
    "English Sentence (Truth):  the trains don t run as often at night\n",
    "English Sentence (Pred) the [UNK] [UNK] to [UNK] a week\n",
    "Sample: 4\n",
    "Dutch Sentence:  ik weet hoe dit werkt\n",
    "English Sentence (Truth):  i know how this works\n",
    "English Sentence (Pred) i know that this dictionary\n",
    "Sample: 5\n",
    "Dutch Sentence:  houd je toespraak kort\n",
    "English Sentence (Truth):  keep your speech short\n",
    "English Sentence (Pred) look at your country\n",
    "Sample: 6\n",
    "Dutch Sentence:  help me alsjeblieft een trui uit te kiezen die bij mijn nieuwe jurk past\n",
    "English Sentence (Truth):  please help me pick out a sweater which matches my new dress\n",
    "English Sentence (Pred) please give me a new dictionary for me this year ago\n",
    "Sample: 7\n",
    "Dutch Sentence:  welk jaar is het ?\n",
    "English Sentence (Truth):  what year is it ?\n",
    "English Sentence (Pred) what is the last ?\n",
    "Sample: 8\n",
    "Dutch Sentence:  welk verschil is er tussen dit en dat ?\n",
    "English Sentence (Truth):  what is the difference between this and that ?\n",
    "English Sentence (Pred) what s the difference between this bird ?\n",
    "Sample: 9\n",
    "Dutch Sentence:  is dat onze bus ?\n",
    "English Sentence (Truth):  is that our bus ?\n",
    "English Sentence (Pred) is this the book ?\n",
    "Sample: 10\n",
    "Dutch Sentence:  kun je me vannacht een [UNK] doen en op mijn kinderen oppassen ?\n",
    "English Sentence (Truth):  could you do me a favor and [UNK] my kids tonight ?\n",
    "English Sentence (Pred) can you please tell the truth to me a doctor ?\n",
    "Sample: 11\n",
    "Dutch Sentence:  ik bleef daar\n",
    "English Sentence (Truth):  i stayed there\n",
    "English Sentence (Pred) i felt [UNK]\n",
    "\"\"\""
   ]
  },
  {
   "cell_type": "markdown",
   "metadata": {},
   "source": [
    "### <font color=\"red\"><strong>TODO:</strong></font> <b>Answer the following questions:</b>"
   ]
  },
  {
   "cell_type": "markdown",
   "metadata": {},
   "source": [
    "1. **Describe your observations of the model's evaluation performance. Briefly explain any one method to improve the model architecture based on the lecture readings, or online sources.**"
   ]
  },
  {
   "cell_type": "markdown",
   "metadata": {},
   "source": [
    "<span style=\"color:red\">__Answer:__</span>\n",
    "\n"
   ]
  },
  {
   "cell_type": "markdown",
   "metadata": {},
   "source": [
    "2. **During the data preprocessing, we encoded each word in the input/target language to a number based on the vocabulary. This is known as tokenization. Briefly explain any one other method of tokenization, and why it might be beneficial to this particular task.**"
   ]
  },
  {
   "cell_type": "markdown",
   "metadata": {},
   "source": [
    "<span style=\"color:red\">__Answer:__</span>\n",
    "\n"
   ]
  },
  {
   "cell_type": "markdown",
   "metadata": {},
   "source": [
    "We implemented a simple LSTM-based seq2seq model. The performance may not be the best, since Dutch and English are naturally complex languages. The state-of-the-art translation models are based on Transformer Networks that use the attention mechanism. (further reading: https://nlpprogress.com/english/machine_translation.html)"
   ]
  },
  {
   "cell_type": "markdown",
   "metadata": {},
   "source": [
    "## (BONUS) Part 6: Bidirectional LSTM (5%)"
   ]
  },
  {
   "cell_type": "markdown",
   "metadata": {},
   "source": [
    "One simple modification that we can do to significantly improve the quality of the generated sentences is to change the Encoder LSTM to be bidirectional. This will improve the performance because different languages tend to have different sentence structures, and in the case of Dutch, crucial information for a given word may not be available until later on in the sentence. \n",
    "\n",
    "**SIDE NOTE**: Changing the decoder to be bidirectional will not work in a text generation task (in our case, translation). Feel free to think of why this is the case. (No written is required).\n",
    "\n",
    "<font color=\"red\"><strong>BONUS TODO:</strong></font> <b> Complete the BidirectionalEncoder Class in utils/translation/layers.py, and run the training and validation loops to compare the generated translations with the previous model you implemented.</b>"
   ]
  },
  {
   "cell_type": "code",
   "execution_count": null,
   "metadata": {},
   "outputs": [],
   "source": [
    "from utils.translation.layers import TranslationModel\n",
    "\n",
    "eng_vocab_size = len(eng_vocab)\n",
    "nl_vocab_size = len(nl_vocab)\n",
    "hidden_size = 256\n",
    "\n",
    "# Initialize Model with bidirectional_encoder = True\n",
    "# NOTE the bidirectional_encoder = True\n",
    "model = TranslationModel(nl_vocab_size, eng_vocab_size, hidden_size, eng_vocab, bidirectional_encoder=True)"
   ]
  },
  {
   "cell_type": "code",
   "execution_count": null,
   "metadata": {},
   "outputs": [],
   "source": [
    "from utils.translation.train_funcs import train_seq2seq_model\n",
    "\n",
    "# Train the model. Use the Adam optimizer with 1e-3 learning rate.\n",
    "num_epochs = 5\n",
    "learning_rate = 0.001\n",
    "optimizer = tf.keras.optimizers.Adam(learning_rate = learning_rate)\n",
    "\n",
    "train_seq2seq_model(\n",
    "    model,\n",
    "    train_loader,\n",
    "    optimizer,\n",
    "    num_epochs\n",
    ")"
   ]
  },
  {
   "cell_type": "code",
   "execution_count": null,
   "metadata": {},
   "outputs": [],
   "source": [
    "# Run these cells to evaluate your model on one batch of the validation set\n",
    "val_sample = val_loader.shuffle(10000).take(1)\n",
    "val_sample = next(iter(val_sample))"
   ]
  },
  {
   "cell_type": "code",
   "execution_count": null,
   "metadata": {},
   "outputs": [],
   "source": [
    "val_inp, val_target = val_sample\n",
    "decoded_inputs = []\n",
    "reserved_tokens = ['[PAD]', '[SOS]', '[EOS]']\n",
    "for inp in val_inp.numpy():\n",
    "    decoded_text = decode_text(inp, vocab=nl_vocab)\n",
    "    decoded_inputs.append([token for token in decoded_text if token not in reserved_tokens])\n",
    "\n",
    "val_pred = model(val_inp, training=False)\n",
    "decoded_outputs = model.decode_tokens(val_pred)\n",
    "decoded_ground_truth = model.decode_tokens(val_target[:, 1:])\n",
    "\n",
    "samples_to_show = 10 #Should be <= batch size\n",
    "\n",
    "for i, decoded_data in enumerate(zip(decoded_inputs, decoded_ground_truth, decoded_outputs)):\n",
    "    nl_sentence = ' '.join(decoded_data[0])\n",
    "    gt_en_sentence = ' '.join(decoded_data[1])\n",
    "    pred_en_sentence = ' '.join(decoded_data[2])\n",
    "    print('Sample:', i+1)\n",
    "    print('Dutch Sentence: ', nl_sentence)\n",
    "    print('English Sentence (Truth): ', gt_en_sentence)\n",
    "    print('English Sentence (Pred)', pred_en_sentence)\n",
    "    if i > samples_to_show - 1:\n",
    "        break"
   ]
  },
  {
   "cell_type": "markdown",
   "metadata": {},
   "source": [
    "<font color=\"red\"><strong>BONUS TODO:</strong></font> <b> Briefly describe the differences in quality of the translations between the model with and without a bidirectional encoder. (1-2 sentenes is enough) <b/>"
   ]
  },
  {
   "cell_type": "markdown",
   "metadata": {},
   "source": [
    "<span style=\"color:red\">__Answer:__</span>\n",
    "\n"
   ]
  }
 ],
 "metadata": {
  "accelerator": "GPU",
  "colab": {
   "name": "Assignment_3_task_2_final.ipynb",
   "provenance": []
  },
  "kernelspec": {
   "display_name": "Python 3",
   "language": "python",
   "name": "python3"
  },
  "language_info": {
   "codemirror_mode": {
    "name": "ipython",
    "version": 3
   },
   "file_extension": ".py",
   "mimetype": "text/x-python",
   "name": "python",
   "nbconvert_exporter": "python",
   "pygments_lexer": "ipython3",
   "version": "3.6.9"
  },
  "vscode": {
   "interpreter": {
    "hash": "36142657f443a869bd2c1b509e6f1df9b014ad48aa206cdd00d27f8f22cb37ba"
   }
  }
 },
 "nbformat": 4,
 "nbformat_minor": 4
}

{
 "cells": [
  {
   "cell_type": "markdown",
   "metadata": {},
   "source": [
    "## Columbia University\n",
    "### ECBM E4040 Neural Networks and Deep Learning. Fall 2023."
   ]
  },
  {
   "cell_type": "markdown",
   "metadata": {},
   "source": [
    "## **Task 1: XOR** (50%)"
   ]
  },
  {
   "cell_type": "code",
   "execution_count": 2,
   "metadata": {},
   "outputs": [
    {
     "name": "stdout",
     "output_type": "stream",
     "text": [
      "Using GPU(0): PhysicalDevice(name='/physical_device:GPU:0', device_type='GPU')\n",
      "2.4.0\n"
     ]
    }
   ],
   "source": [
    "# Import modules\n",
    "from __future__ import print_function\n",
    "import tensorflow as tf\n",
    "\n",
    "physical_devices = tf.config.experimental.list_physical_devices('GPU')\n",
    "if len(physical_devices) > 0:\n",
    "    print('Using GPU(0):', physical_devices[0])\n",
    "    tf.config.experimental.set_memory_growth(physical_devices[0], enable=True)\n",
    "else:\n",
    "    print('Using CPU')\n",
    "\n",
    "import numpy as np\n",
    "from numpy.random import shuffle\n",
    "import time\n",
    "import matplotlib.pyplot as plt\n",
    "\n",
    "# Plot configurations\n",
    "%matplotlib inline\n",
    "\n",
    "# Notebook auto reload code. (Ref: http://stackoverflow.com/questions/1907993/autoreload-of-modules-in-ipython)\n",
    "%load_ext autoreload\n",
    "%autoreload 2\n",
    "print(tf.__version__)"
   ]
  },
  {
   "cell_type": "markdown",
   "metadata": {},
   "source": [
    "##  Part 1: Backpropagation Through Time (10%)"
   ]
  },
  {
   "cell_type": "markdown",
   "metadata": {},
   "source": [
    "**Question:** Consider some input data $x_1, x_2$ and ground truth $p_1, p_2$ (the indices denote different time steps), a simple RNN network is shown in the following figure. \n",
    "\n",
    "![bptt](./img/bptt2.jpg)\n",
    "\n",
    "Here, $w_x, w_h, b_1, w, b_2 \\in R$ are scalar parameters. The loss function is **Mean Squared Error (MSE)**. "
   ]
  },
  {
   "cell_type": "markdown",
   "metadata": {},
   "source": [
    "<font color=\"red\"><strong>TODO:</strong></font>\n",
    "\n",
    "Assume the input $(x_1, x_2) = (1, -1)$, ground truth $(p_1, p_2) = (0, 1)$, $h_0 = 0$, and $(w_x, w_h, b_1, w, b_2) = (1, -2, 3, 2, 1)$, derive both the forward and backward pass (keep $4$ digits after the decimal). "
   ]
  },
  {
   "cell_type": "markdown",
   "metadata": {},
   "source": [
    "<font color=\"red\"><strong>Hint:</strong></font> The sigmoid function and its derivative\n",
    "\n",
    "$$\n",
    "\\sigma (x) = \\frac{1}{1 + e^{-x}}, \\quad\n",
    "\\nabla_x \\sigma (x) = \\frac{e^{-x}}{1 + e^{-x}} = \\sigma (x) (1 - \\sigma (x))\n",
    "$$\n",
    "\n",
    "- Derive the equations and intermediate variables first before plugging in values, don't just fill in the answers\n",
    "- Use LaTeX-style equations\n",
    "- Your derivations don't need to be wrapped with special color :)"
   ]
  },
  {
   "cell_type": "markdown",
   "metadata": {},
   "source": [
    "<font color=\"red\"><strong>Asnwer:</strong></font>\n",
    "\n",
    "### Forward Pass:\n",
    "\n",
    "1. **Calculate Hidden States $( h_1, h_2 )$**:\n",
    "\n",
    "  $  h_1 = \\sigma(w_x x_1 + w_h h_0 + b_1) = \\sigma(1 \\cdot 1 - 2 \\cdot 0 + 3) $\n",
    "   \n",
    "   $ h_2 = \\sigma(w_x x_2 + w_h h_1 + b_1) = \\sigma(1 \\cdot (-1) - 2 \\cdot h_1 + 3) $\n",
    "   \n",
    "\n",
    "2. **Calculate Outputs $( o_1, o_2 )$**:\n",
    "\n",
    "   $ o_1 = w h_1 + b_2 = 2 \\cdot h_1 + 1 $\n",
    "   \n",
    "   $ o_2 = w h_2 + b_2 = 2 \\cdot h_2 + 1 $\n",
    "   \n",
    "\n",
    "3. **Compute Loss (MSE)**:\n",
    "   $ L = \\frac{1}{2}((p_1 - o_1)^2 + (p_2 - o_2)^2) = \\frac{1}{2}((0 - o_1)^2 + (1 - o_2)^2) $\n",
    "   \n",
    "\n",
    "### Backward Pass (Gradients):\n",
    "\n",
    "1. **Gradient of Loss w.r.t. Outputs $ ( \\nabla_{o_1} L, \\nabla_{o_2} L ) $**:\n",
    "\n",
    "   $ \\nabla_{o_1} L = o_1 - p_1 = o_1 - 0 $ \n",
    "   \n",
    "   $ \\nabla_{o_2} L = o_2 - p_2 = o_2 - 1 $\n",
    "   \n",
    "\n",
    "2. **Gradients of Loss w.r.t. Parameters**:\n",
    "\n",
    "   $ \\nabla_{w} L = \\nabla_{o_1} L \\cdot h_1 + \\nabla_{o_2} L \\cdot h_2 $\n",
    "   \n",
    "   $ \\nabla_{b_2} L = \\nabla_{o_1} L + \\nabla_{o_2} L $\n",
    "   \n",
    "\n",
    "3. **Gradient of Loss w.r.t. Hidden States $( \\nabla_{h_1} L, \\nabla_{h_2} L) $**:\n",
    "\n",
    "   $ \\nabla_{h_1} L = \\nabla_{o_1} L \\cdot w $\n",
    "   $ \\nabla_{h_2} L = \\nabla_{o_2} L \\cdot w $\n",
    "   \n",
    "\n",
    "4. **Gradients of Loss w.r.t. Weights and Biases in Hidden State Calculation**:\n",
    "\n",
    "   $ \\nabla_{w_x} L = \\nabla_{h_1} L \\cdot \\nabla_x \\sigma(h_1) \\cdot x_1 + \\nabla_{h_2} L \\cdot \\nabla_x \\sigma(h_2) \\cdot x_2$\n",
    "   \n",
    "   $ \\nabla_{w_h} L = \\nabla_{h_2} L \\cdot \\nabla_x \\sigma(h_2) \\cdot h_1 $\n",
    "   $ \\nabla_{b_1} L = \\nabla_{h_1} L \\cdot \\nabla_x \\sigma(h_1) + \\nabla_{h_2} L \\cdot \\nabla_x \\sigma(h_2) $\n",
    "\n",
    "\n",
    "\n",
    "- The gradients\n",
    "\n",
    "$$\n",
    "\\begin{cases}\n",
    "\\nabla_{w_x} L = \\color{green}{[-0.4041]} \\\\\n",
    "\\nabla_{w_h} L = \\color{green}{[0.4997]} \\\\\n",
    "\\nabla_{b_1} L = \\color{green}{[0.6135]} \\\\\n",
    "\\nabla_{w} L = \\color{green}{[3.4289]} \\\\\n",
    "\\nabla_{b_2} L = \\color{green}{[3.9820]} \\\\\n",
    "\\end{cases}\n",
    "$$\n",
    "\n",
    "\n"
   ]
  },
  {
   "cell_type": "markdown",
   "metadata": {},
   "source": [
    "## Part 2: Use TensorFlow modules to create XOR network (15%)\n",
    "\n",
    "In this part, you need to build and train an XOR network that can learn the XOR function. It is a very simple implementation of RNN and will give you an idea of how RNN is built and how to train it."
   ]
  },
  {
   "cell_type": "markdown",
   "metadata": {},
   "source": [
    "### XOR network\n",
    "\n",
    "![xnor_net](./img/xnor.png)\n",
    "\n",
    "XOR network can learn the XOR ($\\oplus$) function. If the input is\n",
    "\n",
    "$$\n",
    "(x_0, ..., x_7) = (0, 0, 1, 1, 1, 1, 1, 0)\n",
    "$$\n",
    "\n",
    "Then, the output should be\n",
    "\n",
    "$$\n",
    "(y_0, ..., y_7) = (0, 0, 1, 0, 1, 0, 1, 1)\n",
    "$$\n",
    "\n",
    "That is, \n",
    "\n",
    "$$\n",
    "y_n = x_0 \\oplus x_1 \\oplus ... \\oplus x_{n-1} \\oplus x_{n}\n",
    "$$\n",
    "\n",
    "It is also interesting to realize that the equation effectively equivalates to \n",
    "\n",
    "$$\n",
    "y_i = \\sum_{j = 0}^i x_j \\mod 2\n",
    "$$"
   ]
  },
  {
   "cell_type": "markdown",
   "metadata": {},
   "source": [
    "### Create a Dataset\n",
    "This function provides a way to generate the data that is needed for the training process. You should utilize it when building your training function for the GRU. Read the source code for more information."
   ]
  },
  {
   "cell_type": "code",
   "execution_count": 3,
   "metadata": {},
   "outputs": [],
   "source": [
    "from utils.dataset import create_xor_dataset"
   ]
  },
  {
   "cell_type": "code",
   "execution_count": 4,
   "metadata": {},
   "outputs": [
    {
     "data": {
      "text/plain": [
       "(array([[[0],\n",
       "         [1],\n",
       "         [1],\n",
       "         [1],\n",
       "         [1],\n",
       "         [1],\n",
       "         [1],\n",
       "         [0]]]),\n",
       " array([[0, 1, 0, 1, 0, 1, 0, 0]]))"
      ]
     },
     "execution_count": 4,
     "metadata": {},
     "output_type": "execute_result"
    }
   ],
   "source": [
    "create_xor_dataset(1)"
   ]
  },
  {
   "cell_type": "markdown",
   "metadata": {},
   "source": [
    "### Build a Network using a TensorFlow LSTMCell and GRUCell\n",
    "\n",
    "In this section, you are asked to build an XOR network using a TensorFlow LSTMCell and a GRUCell. In TensorFlow 2, these two cells are supported by Keras. Please check the online documents below.\n",
    "\n",
    "Use TensorFlow to build and train your XOR network. The dataset is already provided. You will do the following:\n",
    "- Learn how to use `tf.keras.layers.LSTM` and `tf.keras.layers.GRU` in TensorFlow(Keras). \n",
    "- Choose appropriate parameters to build a model (Sequential Model in Keras is suggested). \n",
    "- Compile your model with appropriate loss function, optimizer, metrics, etc.\n",
    "- Train your model and see the loss history.\n",
    "\n",
    "Tips: \n",
    "1. Make sure that the shape of your data is correct after every step.\n",
    "2. Choose your loss function according to your network design.\n",
    "3. Choose 'accuracy' as your metric when compiling your model.\n",
    "4. Make sure that the names of the history for the network with LSTMCell and GRUCell (which you used while training) are the same as the ones in the plotting functions.\n",
    "4. Feel free to consult the TAs if you get stuck somewhere.\n",
    "\n",
    "Reference: \n",
    "1. [TensorFlow(Keras): Working with RNNs](https://keras.io/guides/working_with_rnns/)\n",
    "2. [TensorFlow: Recurrent Neural Networks (RNN) with Keras](https://www.tensorflow.org/guide/keras/rnn)\n",
    "3. [TensorFlow LSTM Cell](https://www.tensorflow.org/api_docs/python/tf/keras/layers/LSTM)\n",
    "4. [TensorFlow GRU Cell](https://www.tensorflow.org/api_docs/python/tf/keras/layers/GRU)\n",
    "5. [TensorFlow: Sequential Model](https://www.tensorflow.org/guide/keras/sequential_model)\n"
   ]
  },
  {
   "cell_type": "markdown",
   "metadata": {},
   "source": [
    "### Build a Network with LSTM"
   ]
  },
  {
   "cell_type": "code",
   "execution_count": 5,
   "metadata": {
    "pycharm": {
     "is_executing": true
    }
   },
   "outputs": [
    {
     "name": "stdout",
     "output_type": "stream",
     "text": [
      "Input data: (1000, 8, 1) int64\n",
      "Labels: (1000, 8) int64\n"
     ]
    }
   ],
   "source": [
    "in_data, out_data = create_xor_dataset(1000) # Create a dataset with a batch size of 1000\n",
    "print('Input data:', in_data.shape, in_data.dtype)\n",
    "print('Labels:', out_data.shape, out_data.dtype)"
   ]
  },
  {
   "cell_type": "markdown",
   "metadata": {},
   "source": [
    "#### Interpreting RNN Inputs\n",
    "\n",
    "Typically, the input data of an RNN has the form of\n",
    "\n",
    "$$\n",
    "X \\in R^{T \\times N \\times D}\n",
    "$$\n",
    "\n",
    "where $T$ is ***the number of time steps***, $N$ is the batch size and $D$ is the dimension of each input. \n",
    "\n",
    "At each time step $t$, we feed\n",
    "\n",
    "$$\n",
    "X_t \\in R^{N \\times D}\n",
    "$$\n",
    "\n",
    "into the RNN to generate an output (i.e. the hidden state) $h_t \\in R^{N \\times K}$. \n",
    "\n",
    "Some tasks only take interest in the final output $h_T$, while others need the output from all of the time steps as \n",
    "\n",
    "$$\n",
    "H = [h_1, \\dots, h_T] \\in R^{T \\times N \\times K}\n",
    "$$"
   ]
  },
  {
   "cell_type": "markdown",
   "metadata": {},
   "source": [
    "<font color=\"red\"><strong>NOTE:</strong></font>\n",
    "\n",
    "In real-life RNN models, the orders of $T$ and $N$ are actually exchangeable by specifying certain model parameters, which are `time_major` in Tensorflow and `batch_first` in Pytorch. \n",
    "\n",
    "Use whatever you like in your implementations, but make sure to have a consistent input shape. "
   ]
  },
  {
   "cell_type": "markdown",
   "metadata": {},
   "source": [
    "<span style=\"color:red\">__TODO:__</span> Answer the question: \n",
    "\n",
    "We talked about two usages of an RNN model: \n",
    "\n",
    "- Return only $h_T$\n",
    "- Return all $H = [h_1, \\dots, h_T]$\n",
    "\n",
    "In the context of our XOR function, which one should we use? "
   ]
  },
  {
   "cell_type": "markdown",
   "metadata": {},
   "source": [
    "<span style=\"color:red\">__Answer:__</span>\n",
    "\n",
    "$$\\text{For the XOR problem where the output is simply the XOR of the two inputs, we would use the final hidden state $h_T$. This is because the XOR output is a single value representing the cumulative XOR of the input sequence}$$"
   ]
  },
  {
   "cell_type": "markdown",
   "metadata": {},
   "source": [
    "<font color=\"red\"><strong>HINT:</strong></font>\n",
    "\n",
    "Upon answering the question above, think about how this is done with Tensorflow. Please reference [`LSTM` documents](https://www.tensorflow.org/api_docs/python/tf/keras/layers/LSTM). "
   ]
  },
  {
   "cell_type": "markdown",
   "metadata": {},
   "source": [
    "#### Hint for creating a model with LSTM\n",
    "\n",
    "```\n",
    "model = tf.keras.Sequential() \n",
    "model.add([LAYER1])\n",
    "model.add([LAYER2])\n",
    "model.add([...])\n",
    "model.add([OUTPUT_LAYER])\n",
    "\n",
    "model.summary() \n",
    "model.compile(loss=[LOSS_FUNCTION], optimizer=[OPTIMIZER], metrics=['accuracy'])\n",
    "\n",
    "history_LSTM = model.fit(in_data, out_data, batch_size=64, epochs=15) \n",
    "```"
   ]
  },
  {
   "cell_type": "markdown",
   "metadata": {},
   "source": [
    "<span style=\"color:red\">__TODO:__</span> Build a LSTM Network"
   ]
  },
  {
   "cell_type": "code",
   "execution_count": 6,
   "metadata": {
    "pycharm": {
     "is_executing": true
    }
   },
   "outputs": [
    {
     "name": "stdout",
     "output_type": "stream",
     "text": [
      "WARNING:tensorflow:Layer lstm will not use cuDNN kernel since it doesn't meet the cuDNN kernel criteria. It will use generic GPU kernel as fallback when running on GPU\n",
      "WARNING:tensorflow:Layer lstm_1 will not use cuDNN kernel since it doesn't meet the cuDNN kernel criteria. It will use generic GPU kernel as fallback when running on GPU\n",
      "Model: \"sequential\"\n",
      "_________________________________________________________________\n",
      "Layer (type)                 Output Shape              Param #   \n",
      "=================================================================\n",
      "lstm (LSTM)                  (None, 8, 100)            40800     \n",
      "_________________________________________________________________\n",
      "lstm_1 (LSTM)                (None, 8, 50)             30200     \n",
      "_________________________________________________________________\n",
      "time_distributed (TimeDistri (None, 8, 1)              51        \n",
      "=================================================================\n",
      "Total params: 71,051\n",
      "Trainable params: 71,051\n",
      "Non-trainable params: 0\n",
      "_________________________________________________________________\n",
      "Epoch 1/15\n",
      "8/8 [==============================] - 5s 65ms/step - loss: 0.6932 - accuracy: 0.4983\n",
      "Epoch 2/15\n",
      "8/8 [==============================] - 1s 63ms/step - loss: 0.6927 - accuracy: 0.5201\n",
      "Epoch 3/15\n",
      "8/8 [==============================] - 1s 67ms/step - loss: 0.6927 - accuracy: 0.5745\n",
      "Epoch 4/15\n",
      "8/8 [==============================] - 1s 66ms/step - loss: 0.6927 - accuracy: 0.5705\n",
      "Epoch 5/15\n",
      "8/8 [==============================] - 1s 67ms/step - loss: 0.6925 - accuracy: 0.5635\n",
      "Epoch 6/15\n",
      "8/8 [==============================] - 1s 64ms/step - loss: 0.6920 - accuracy: 0.5777\n",
      "Epoch 7/15\n",
      "8/8 [==============================] - 0s 62ms/step - loss: 0.6918 - accuracy: 0.5756\n",
      "Epoch 8/15\n",
      "8/8 [==============================] - 0s 61ms/step - loss: 0.6914 - accuracy: 0.5729\n",
      "Epoch 9/15\n",
      "8/8 [==============================] - 1s 64ms/step - loss: 0.6913 - accuracy: 0.5594\n",
      "Epoch 10/15\n",
      "8/8 [==============================] - 0s 61ms/step - loss: 0.6908 - accuracy: 0.5596\n",
      "Epoch 11/15\n",
      "8/8 [==============================] - 0s 60ms/step - loss: 0.6905 - accuracy: 0.5605\n",
      "Epoch 12/15\n",
      "8/8 [==============================] - 0s 62ms/step - loss: 0.6882 - accuracy: 0.5734\n",
      "Epoch 13/15\n",
      "8/8 [==============================] - 1s 70ms/step - loss: 0.6876 - accuracy: 0.5761\n",
      "Epoch 14/15\n",
      "8/8 [==============================] - 1s 64ms/step - loss: 0.6862 - accuracy: 0.5771\n",
      "Epoch 15/15\n",
      "8/8 [==============================] - 0s 62ms/step - loss: 0.6852 - accuracy: 0.5638\n"
     ]
    }
   ],
   "source": [
    "###################################################\n",
    "# TODO: Build a network with LSTM and train it    #\n",
    "#                                                 #\n",
    "###################################################\n",
    "\n",
    "model = tf.keras.Sequential()\n",
    "model.add(tf.keras.layers.LSTM(units=100, return_sequences=True, input_shape=(in_data.shape[1], in_data.shape[2]), dropout=0.2, recurrent_dropout=0.2))\n",
    "model.add(tf.keras.layers.LSTM(units=50, return_sequences=True, dropout=0.2, recurrent_dropout=0.2))  # Additional LSTM layer\n",
    "model.add(tf.keras.layers.TimeDistributed(tf.keras.layers.Dense(1, activation='sigmoid')))\n",
    "\n",
    "model.summary()\n",
    "\n",
    "# Trying a custom optimizer for better accuarcy\n",
    "optimizer = tf.keras.optimizers.Adam(learning_rate=0.001)\n",
    "\n",
    "model.compile(loss='binary_crossentropy', optimizer=optimizer, metrics=['accuracy'])\n",
    "\n",
    "# Training the model \n",
    "history_LSTM = model.fit(in_data, out_data, batch_size=128, epochs=15)\n",
    "\n",
    "\n",
    "###################################################\n",
    "# END TODO                                        #\n",
    "###################################################"
   ]
  },
  {
   "cell_type": "markdown",
   "metadata": {},
   "source": [
    "### Build a Network with GRU"
   ]
  },
  {
   "cell_type": "code",
   "execution_count": 7,
   "metadata": {
    "pycharm": {
     "is_executing": true
    }
   },
   "outputs": [
    {
     "name": "stdout",
     "output_type": "stream",
     "text": [
      "Input data: (1000, 8, 1) int64\n",
      "Labels: (1000, 8) int64\n"
     ]
    }
   ],
   "source": [
    "in_data, out_data = create_xor_dataset(1000) # Create a dataset with a batch size of 1000\n",
    "print('Input data:', in_data.shape, in_data.dtype)\n",
    "print('Labels:', out_data.shape, out_data.dtype)"
   ]
  },
  {
   "cell_type": "markdown",
   "metadata": {},
   "source": [
    "<span style=\"color:red\">__TODO:__</span> Build a GRU Network"
   ]
  },
  {
   "cell_type": "code",
   "execution_count": 8,
   "metadata": {},
   "outputs": [
    {
     "name": "stdout",
     "output_type": "stream",
     "text": [
      "Model: \"sequential_1\"\n",
      "_________________________________________________________________\n",
      "Layer (type)                 Output Shape              Param #   \n",
      "=================================================================\n",
      "gru (GRU)                    (None, 8, 50)             7950      \n",
      "_________________________________________________________________\n",
      "time_distributed_1 (TimeDist (None, 8, 1)              51        \n",
      "=================================================================\n",
      "Total params: 8,001\n",
      "Trainable params: 8,001\n",
      "Non-trainable params: 0\n",
      "_________________________________________________________________\n",
      "Epoch 1/15\n",
      "16/16 [==============================] - 3s 4ms/step - loss: 0.6925 - accuracy: 0.5275\n",
      "Epoch 2/15\n",
      "16/16 [==============================] - 0s 3ms/step - loss: 0.6898 - accuracy: 0.5835\n",
      "Epoch 3/15\n",
      "16/16 [==============================] - 0s 10ms/step - loss: 0.6875 - accuracy: 0.5636\n",
      "Epoch 4/15\n",
      "16/16 [==============================] - 0s 4ms/step - loss: 0.6854 - accuracy: 0.5668\n",
      "Epoch 5/15\n",
      "16/16 [==============================] - 0s 4ms/step - loss: 0.6834 - accuracy: 0.5684\n",
      "Epoch 6/15\n",
      "16/16 [==============================] - 0s 4ms/step - loss: 0.6828 - accuracy: 0.5611\n",
      "Epoch 7/15\n",
      "16/16 [==============================] - 0s 4ms/step - loss: 0.6807 - accuracy: 0.5585\n",
      "Epoch 8/15\n",
      "16/16 [==============================] - 0s 3ms/step - loss: 0.6776 - accuracy: 0.5596\n",
      "Epoch 9/15\n",
      "16/16 [==============================] - 0s 3ms/step - loss: 0.6681 - accuracy: 0.5731\n",
      "Epoch 10/15\n",
      "16/16 [==============================] - 0s 4ms/step - loss: 0.6616 - accuracy: 0.5651\n",
      "Epoch 11/15\n",
      "16/16 [==============================] - 0s 3ms/step - loss: 0.6534 - accuracy: 0.5409\n",
      "Epoch 12/15\n",
      "16/16 [==============================] - 0s 3ms/step - loss: 0.6416 - accuracy: 0.5794\n",
      "Epoch 13/15\n",
      "16/16 [==============================] - 0s 3ms/step - loss: 0.6268 - accuracy: 0.5980\n",
      "Epoch 14/15\n",
      "16/16 [==============================] - 0s 3ms/step - loss: 0.6111 - accuracy: 0.6157\n",
      "Epoch 15/15\n",
      "16/16 [==============================] - 0s 3ms/step - loss: 0.5937 - accuracy: 0.6670\n"
     ]
    }
   ],
   "source": [
    "###################################################\n",
    "# TODO: Build a model with GRU and train it.      #\n",
    "#                                                 #\n",
    "###################################################\n",
    "model = tf.keras.Sequential()\n",
    "model.add(tf.keras.layers.GRU(units=50, return_sequences=True, input_shape=(in_data.shape[1], in_data.shape[2])))\n",
    "model.add(tf.keras.layers.TimeDistributed(tf.keras.layers.Dense(1, activation='sigmoid')))\n",
    "\n",
    "model.summary()\n",
    "\n",
    "#Compiling the model\n",
    "model.compile(loss='binary_crossentropy', optimizer='adam', metrics=['accuracy'])\n",
    "\n",
    "#Training the model\n",
    "history_GRU = model.fit(in_data, out_data, batch_size=64, epochs=15)\n",
    "\n",
    "\n",
    "\n",
    "###################################################\n",
    "# END TODO                                        #\n",
    "###################################################"
   ]
  },
  {
   "cell_type": "markdown",
   "metadata": {},
   "source": [
    "### Visualize Loss and Accuracy"
   ]
  },
  {
   "cell_type": "code",
   "execution_count": 9,
   "metadata": {},
   "outputs": [
    {
     "data": {
      "image/png": "[encoded data removed]",
      "text/plain": [
       "<Figure size 432x288 with 1 Axes>"
      ]
     },
     "metadata": {
      "needs_background": "light"
     },
     "output_type": "display_data"
    }
   ],
   "source": [
    "plt.plot(history_LSTM.history['loss'], label='LSTM')\n",
    "plt.plot(history_GRU.history['loss'], label='GRU')\n",
    "plt.title('LSTM/GRU loss')\n",
    "plt.ylabel('loss')\n",
    "plt.xlabel('No. epoch')\n",
    "plt.legend(loc=\"upper left\")\n",
    "plt.show()"
   ]
  },
  {
   "cell_type": "code",
   "execution_count": 10,
   "metadata": {},
   "outputs": [
    {
     "data": {
      "image/png": "[encoded data removed]",
      "text/plain": [
       "<Figure size 432x288 with 1 Axes>"
      ]
     },
     "metadata": {
      "needs_background": "light"
     },
     "output_type": "display_data"
    }
   ],
   "source": [
    "plt.plot(history_LSTM.history['accuracy'], label='LSTM')\n",
    "plt.plot(history_GRU.history['accuracy'], label='GRU')\n",
    "plt.title('LSTM/GRU accuracy')\n",
    "plt.ylabel('accuracy')\n",
    "plt.xlabel('No. epoch')\n",
    "plt.legend(loc=\"upper left\")\n",
    "plt.show()"
   ]
  },
  {
   "cell_type": "markdown",
   "metadata": {},
   "source": [
    "<span style=\"color:red\">__TODO:__</span> Answer the question:\n",
    "\n",
    "Which part of this task have you been struggling with the most? Describe how you resolved it."
   ]
  },
  {
   "cell_type": "markdown",
   "metadata": {},
   "source": [
    "<span style=\"color:red\">__Answer:__</span>\n",
    "\n",
    "Intially struggled to bring the accuracy up, however on trying a few combinations of adding an extra LSTM layer and adding dropouts, gor the accuracy to become slightly better."
   ]
  },
  {
   "cell_type": "markdown",
   "metadata": {},
   "source": [
    "<span style=\"color:red\">__TODO:__</span> Answer the question:\n",
    "\n",
    "Which loss function did you use? Why?"
   ]
  },
  {
   "cell_type": "markdown",
   "metadata": {},
   "source": [
    "<span style=\"color:red\">__Answer:__</span>\n",
    "For both the LSTM and GRU models, I have used the binary-crossentropy loss function. This choice is based on the specific nature of the problem being addressed, a binary classification problem as suggested by the use of the XOR dataset and a sigmoid activation function in the output layer.\n",
    "\n",
    "In binary classification tasks, where the model predicts one of two classes, binary-crossentropy is a standard and effective choice for the loss function. It quantifies the difference between the predicted probabilities and the actual binary labels (0 or 1).\n",
    "\n",
    "The sigmoid activation function in the output layer puts the output to a range between 0 and 1, making it suitable for binary classification. It works well with probabilities (like those output by a sigmoid function) as it expects values between 0 and 1.\n",
    "\n",
    "In summary, binary-crossentropy is chosen due to its appropriateness for binary classification tasks, its effectiveness in measuring the probability error in classification tasks, and its compatibility with the sigmoid activation function."
   ]
  },
  {
   "cell_type": "markdown",
   "metadata": {},
   "source": [
    "## Part 3:  Build your own LSTMCell (25%)\n",
    "\n",
    "In this part, you will code your own LSTM Cell implementation (including different types of gates that constitute the cell) to build LSTM layers.\n",
    "\n",
    "It is recommended to see the course slides and [`LSTM` source code](https://github.com/keras-team/keras/blob/v2.10.0/keras/layers/rnn/lstm.py). [This link](https://colah.github.io/posts/2015-08-Understanding-LSTMs) also provides a good intuition. \n",
    "\n",
    "![](./img/lstm_cell.png)\n",
    "\n",
    "**Note that this is a simplified figure and not all operations are illustrated.** Please refer to the lectures and follow the equations. "
   ]
  },
  {
   "cell_type": "markdown",
   "metadata": {},
   "source": [
    "Assuming some **old** carry state $c_{t-1}$ and hidden state $h_{t-1}$, we try to compute the **new states** given some input $X_t$ using the ideas of LSTM. \n",
    "\n",
    "Remember that for an LSTM cell, we actually have (yellow boxes from left to right) a **forget gate**, an **input gate**, a **cell** and an **output gate**, whose output can be denoted by $f_{t-1}$, $i_{t-1}$, $\\tilde{c}_{t-1}$ and $o_{t-1}$. Each yellow box in the graph denotes a linear projection followed by a particular activation (`sigmoid` or `tanh`). \n",
    "\n",
    "Then for some input $X_t \\in R^{N \\times D}$ and a target output dimension $K$ (also called \"units\"), let's first combine the inputs with the old hidden state $h_{t-1} \\in R^{N \\times K}$ by projecting them into the same dimension \n",
    "\n",
    "$$\n",
    "Z_t = X_t + h_{t-1} W_h\n",
    "$$\n",
    "\n",
    "where $W_h \\in R^{K \\times D}$. Then all new states can be computed one by one as \n",
    "\n",
    "$$\n",
    "\\begin{cases}\n",
    "f_t = \\sigma (Z_t W_f) \\\\\n",
    "i_t = \\sigma (Z_t W_i) \\\\\n",
    "\\tilde{c}_t = \\tanh (Z_t W_c) \\\\\n",
    "o_t = \\sigma (Z_t W_o)\n",
    "\\end{cases}\n",
    "$$\n",
    "\n",
    "where the weights (also called kernels)\n",
    "\n",
    "$$\n",
    "W_f, W_i, W_c, W_o \\in R^{D \\times K}\n",
    "$$\n",
    "\n",
    "Then the **new** carry state is given by the **old carry state** passing through the forget gate and combining with the input\n",
    "\n",
    "$$\n",
    "c_t = f_t \\odot c_{t-1} + i_t \\odot \\tilde{c}_t\n",
    "$$\n",
    "\n",
    "and the hidden state is given by the **new carry state** passing through the output gate\n",
    "\n",
    "$$\n",
    "h_t = o_t \\odot \\tanh (c_t)\n",
    "$$"
   ]
  },
  {
   "cell_type": "markdown",
   "metadata": {},
   "source": [
    "Note that when computing each state, we are actually computing the four linear projections on $Z_t$, which is **four** projections on $X_t$ and **eight** (because of the $W_h$) projections on $h_{t-1}$. This doesn't look smart enough, so let's rewrite the equations. \n",
    "\n",
    "First define a kernel $W \\in R^{D \\times 4 K}$, which can be thought of as\n",
    "\n",
    "$$\n",
    "W \\gets [W_f, W_i, W_c, W_o]\n",
    "$$\n",
    "\n",
    "Similarly define a recurrent kernel $W_r \\in R^{K \\times 4 K}$, which is equivalent to \n",
    "\n",
    "$$\n",
    "W_r \\gets W_h W = [W_h W_f, W_h W_i, W_h W_c, W_h W_o]\n",
    "$$\n",
    "\n",
    "\n",
    "We can, of course, also add a bias $b \\in R^{4 K}$, and now all the projections simplifies to \n",
    "\n",
    "$$\n",
    "Z_t = X_t W + h_{t-1} W_r + \\mathbb{1} b^T \\in R^{N \\times 4 K}\n",
    "$$\n",
    "\n",
    "We do exactly **one** projection on $X_t$ and **one** on $h_{t-1}$. Then we partition $Z_t$ into \n",
    "\n",
    "$$\n",
    "[z_t^f, z_t^i, z_t^c, z_t^o] \\gets Z_t, \\quad\n",
    "z_t^* \\in R^{N \\times K}\n",
    "$$\n",
    "\n",
    "Easily, \n",
    "\n",
    "$$\n",
    "\\begin{cases}\n",
    "f_t = \\sigma (z_t^f) \\\\\n",
    "i_t = \\sigma (z_t^i) \\\\\n",
    "\\tilde{c}_t = \\tanh (z_t^c) \\\\\n",
    "o_t = \\sigma (z_t^o)\n",
    "\\end{cases}\n",
    "$$\n",
    "\n",
    "and the rest stays the same. "
   ]
  },
  {
   "cell_type": "markdown",
   "metadata": {},
   "source": [
    "<span style=\"color:red\">__TODO:__</span> \n",
    "\n",
    "1. Complete the model `LSTMCell` in **utils/LSTM.py**\n",
    "2. Verify the function with Tensorflow by running the provided code"
   ]
  },
  {
   "cell_type": "markdown",
   "metadata": {},
   "source": [
    "<span style=\"color:red\">__NOTE:__</span> \n",
    "\n",
    "You should use the \"simplified\" (second) set of equations as TensorFlow does. "
   ]
  },
  {
   "cell_type": "code",
   "execution_count": 25,
   "metadata": {},
   "outputs": [
    {
     "name": "stdout",
     "output_type": "stream",
     "text": [
      "Simple verification:\n",
      "Is h correct? True\n",
      "Is c correct? True\n"
     ]
    }
   ],
   "source": [
    "# Veirification Code\n",
    "# Please don't change anything\n",
    "\n",
    "from utils.LSTM import LSTMCell\n",
    "\n",
    "batch_size = 4\n",
    "input_dim = 8\n",
    "units = 64\n",
    "\n",
    "inputs = tf.random.normal((batch_size, input_dim))\n",
    "states = [tf.random.normal((batch_size, units)), tf.zeros((batch_size, units))]\n",
    "\n",
    "# By default, the weights will be initialized randomly (as specified in the code). \n",
    "# Here we try to enforce deterministic (non-random) initializers \n",
    "# so that the two results can be correctly compared. \n",
    "# NOTE: You should NOT do this and leave them to default during actual training\n",
    "\n",
    "lstm_cell = LSTMCell(\n",
    "    units, \n",
    "    kernel_initializer=tf.keras.initializers.Ones, \n",
    "    recurrent_initializer=tf.keras.initializers.Ones, \n",
    "    bias_initializer=tf.keras.initializers.Zeros\n",
    ")\n",
    "h, (_, c) = lstm_cell(inputs, states)\n",
    "\n",
    "lstm_cell_tf = tf.keras.layers.LSTMCell(\n",
    "    units, \n",
    "    kernel_initializer='ones', \n",
    "    recurrent_initializer='ones', \n",
    "    bias_initializer='zeros'\n",
    ")\n",
    "h_tf, (_, c_tf) = lstm_cell_tf(inputs, states)\n",
    "\n",
    "print('Simple verification:')\n",
    "print('Is h correct?', np.allclose(h.numpy(), h_tf.numpy()))\n",
    "print('Is c correct?', np.allclose(c.numpy(), c_tf.numpy()))"
   ]
  },
  {
   "cell_type": "code",
   "execution_count": 26,
   "metadata": {},
   "outputs": [],
   "source": [
    "in_data, out_data = create_xor_dataset(1024)# Create a dataset with a batch size of 1000"
   ]
  },
  {
   "cell_type": "markdown",
   "metadata": {},
   "source": [
    "#### Hint on building a model with your LSTMCell\n",
    "\n",
    "When creating an RNN with your custom cell, you can just plug in your `LSTMCell` as a building block into a basic `RNN` layer, specify other parameters (e.g. input_shape) as needed, and add it into your model as you did with other layers before. \n",
    "\n",
    "```\n",
    "self.rnn = tf.keras.layers.RNN([YOUR_CELL], **OTHER_ARGS)\n",
    "```\n",
    "\n",
    "For details, please refer to https://www.tensorflow.org/guide/keras/rnn. "
   ]
  },
  {
   "cell_type": "markdown",
   "metadata": {},
   "source": [
    "<span style=\"color:red\">__TODO:__</span> Complete the model `LSTMModel` in **utils/LSTM.py**"
   ]
  },
  {
   "cell_type": "markdown",
   "metadata": {},
   "source": [
    "<span style=\"color:red\">__NOTE:__</span> \n",
    "\n",
    "We are trying to use a custom layer (our `LSTMCell`) with multiple `call` arguments (\"inputs\" and \"states\"). The pre-building of these types of models is currently NOT allowed in tensorflow. \n",
    "\n",
    "So be sure NOT to call `model.summary()`. Compile and fit it directly and the building will be automatically done in runtime. "
   ]
  },
  {
   "cell_type": "markdown",
   "metadata": {},
   "source": [
    "<span style=\"color:red\">__TODO:__</span> Train your `LSTMModel`"
   ]
  },
  {
   "cell_type": "code",
   "execution_count": 27,
   "metadata": {},
   "outputs": [
    {
     "name": "stdout",
     "output_type": "stream",
     "text": [
      "Epoch 1/20\n",
      "WARNING:tensorflow:Gradients do not exist for variables ['lstm_model_9/rnn_9/lstm_cell_17/recurrent_kernel:0'] when minimizing the loss.\n",
      "WARNING:tensorflow:Gradients do not exist for variables ['lstm_model_9/rnn_9/lstm_cell_17/recurrent_kernel:0'] when minimizing the loss.\n",
      "32/32 [==============================] - 1s 6ms/step - loss: 0.6927 - accuracy: 0.5078\n",
      "Epoch 2/20\n",
      "32/32 [==============================] - 0s 6ms/step - loss: 0.6899 - accuracy: 0.5986\n",
      "Epoch 3/20\n",
      "32/32 [==============================] - 0s 6ms/step - loss: 0.6878 - accuracy: 0.5593\n",
      "Epoch 4/20\n",
      "32/32 [==============================] - 0s 6ms/step - loss: 0.6837 - accuracy: 0.5688\n",
      "Epoch 5/20\n",
      "32/32 [==============================] - 0s 6ms/step - loss: 0.6813 - accuracy: 0.5599\n",
      "Epoch 6/20\n",
      "32/32 [==============================] - 0s 6ms/step - loss: 0.6745 - accuracy: 0.5574\n",
      "Epoch 7/20\n",
      "32/32 [==============================] - 0s 6ms/step - loss: 0.6575 - accuracy: 0.5590\n",
      "Epoch 8/20\n",
      "32/32 [==============================] - 0s 6ms/step - loss: 0.6275 - accuracy: 0.6170\n",
      "Epoch 9/20\n",
      "32/32 [==============================] - 0s 6ms/step - loss: 0.5830 - accuracy: 0.5916\n",
      "Epoch 10/20\n",
      "32/32 [==============================] - 0s 6ms/step - loss: 0.5625 - accuracy: 0.6128\n",
      "Epoch 11/20\n",
      "32/32 [==============================] - 0s 6ms/step - loss: 0.5376 - accuracy: 0.6171\n",
      "Epoch 12/20\n",
      "32/32 [==============================] - 0s 6ms/step - loss: 0.5241 - accuracy: 0.6521\n",
      "Epoch 13/20\n",
      "32/32 [==============================] - 0s 6ms/step - loss: 0.5074 - accuracy: 0.6903\n",
      "Epoch 14/20\n",
      "32/32 [==============================] - 0s 6ms/step - loss: 0.4875 - accuracy: 0.7342\n",
      "Epoch 15/20\n",
      "32/32 [==============================] - 0s 5ms/step - loss: 0.4280 - accuracy: 0.7589\n",
      "Epoch 16/20\n",
      "32/32 [==============================] - 0s 6ms/step - loss: 0.3003 - accuracy: 0.8761\n",
      "Epoch 17/20\n",
      "32/32 [==============================] - 0s 6ms/step - loss: 0.1285 - accuracy: 0.9905\n",
      "Epoch 18/20\n",
      "32/32 [==============================] - 0s 6ms/step - loss: 0.0521 - accuracy: 1.0000\n",
      "Epoch 19/20\n",
      "32/32 [==============================] - 0s 6ms/step - loss: 0.0331 - accuracy: 1.0000\n",
      "Epoch 20/20\n",
      "32/32 [==============================] - 0s 6ms/step - loss: 0.0251 - accuracy: 1.0000\n"
     ]
    }
   ],
   "source": [
    "from utils.LSTM import LSTMModel\n",
    "\n",
    "###################################################\n",
    "# TODO: Instantiate your own model and train it.  #\n",
    "###################################################\n",
    "# Define model parameters\n",
    "units = 64  # Adjust as needed\n",
    "output_dim = 1  # Since XOR output is binary\n",
    "activation = 'sigmoid'  # Suitable for binary output\n",
    "input_shape = in_data.shape[1:]  # Shape of a single data sample\n",
    "\n",
    "# Instantiate the LSTM model\n",
    "model = LSTMModel(units, output_dim, activation, input_shape)\n",
    "\n",
    "# Compile the model\n",
    "model.compile(\n",
    "    loss='binary_crossentropy',  # Suitable for binary classification\n",
    "    optimizer='adam',\n",
    "    metrics=['accuracy']\n",
    ")\n",
    "\n",
    "# Train the model\n",
    "history = model.fit(in_data, out_data, batch_size=32, epochs=20)\n",
    "\n",
    "\n",
    "###################################################\n",
    "# END TODO                                        #\n",
    "###################################################"
   ]
  },
  {
   "cell_type": "markdown",
   "metadata": {},
   "source": [
    "### Visualize loss and accuracy"
   ]
  },
  {
   "cell_type": "code",
   "execution_count": 28,
   "metadata": {},
   "outputs": [
    {
     "data": {
      "image/png": "[encoded data removed]",
      "text/plain": [
       "<Figure size 432x288 with 1 Axes>"
      ]
     },
     "metadata": {
      "needs_background": "light"
     },
     "output_type": "display_data"
    }
   ],
   "source": [
    "plt.plot(history.history['loss'], label='loss')\n",
    "plt.plot(history.history['accuracy'], label='accuracy')\n",
    "plt.title('Training history')\n",
    "plt.ylabel('value')\n",
    "plt.xlabel('No. epoch')\n",
    "plt.legend(loc=\"upper left\")\n",
    "plt.show()"
   ]
  },
  {
   "cell_type": "code",
   "execution_count": null,
   "metadata": {},
   "outputs": [],
   "source": []
  }
 ],
 "metadata": {
  "kernelspec": {
   "display_name": "Python 3",
   "language": "python",
   "name": "python3"
  },
  "language_info": {
   "codemirror_mode": {
    "name": "ipython",
    "version": 3
   },
   "file_extension": ".py",
   "mimetype": "text/x-python",
   "name": "python",
   "nbconvert_exporter": "python",
   "pygments_lexer": "ipython3",
   "version": "3.6.9"
  },
  "vscode": {
   "interpreter": {
    "hash": "36142657f443a869bd2c1b509e6f1df9b014ad48aa206cdd00d27f8f22cb37ba"
   }
  }
 },
 "nbformat": 4,
 "nbformat_minor": 4
}
